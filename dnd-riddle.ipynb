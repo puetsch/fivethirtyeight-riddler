{
 "cells": [
  {
   "cell_type": "markdown",
   "metadata": {},
   "source": [
    "# Fivethirtyeight Riddler\n",
    "\n",
    "Riddler Classic https://fivethirtyeight.com/features/can-you-find-the-best-dungeons-dragons-strategy/\n",
    "\n",
    "## What's the advantage of a \"simple\" advantage or disadvantage?"
   ]
  },
  {
   "cell_type": "code",
   "execution_count": 12,
   "metadata": {},
   "outputs": [
    {
     "name": "stdout",
     "output_type": "stream",
     "text": [
      "Expected value of a simple roll is       10.50000.\n",
      "Expected value of an advantage roll is   13.82500.\n",
      "Expected value of a disadvantage roll is  7.17500.\n",
      "CPU times: user 518 µs, sys: 142 µs, total: 660 µs\n",
      "Wall time: 542 µs\n"
     ]
    }
   ],
   "source": [
    "%%time\n",
    "advantage = []\n",
    "disadvantage = []\n",
    "for d1 in range(1,21):\n",
    "    for d2 in range(1,21):\n",
    "        advantage.append( max(d1,d2) )\n",
    "        disadvantage.append( min(d1,d2) )\n",
    "        \n",
    "assert(len(results)==20**2)\n",
    "\n",
    "print(f'Expected value of a simple roll is       {21/2:8.5f}.')\n",
    "print(f'Expected value of an advantage roll is   {sum(advantage)/20**2:8.5f}.')\n",
    "print(f'Expected value of a disadvantage roll is {sum(disadvantage)/20**2:8.5f}.')"
   ]
  },
  {
   "cell_type": "markdown",
   "metadata": {},
   "source": [
    "## Now what about \"advantage of disadvantage\" or vice versa?"
   ]
  },
  {
   "cell_type": "code",
   "execution_count": 13,
   "metadata": {},
   "outputs": [
    {
     "name": "stdout",
     "output_type": "stream",
     "text": [
      "Expected value of a simple roll is                       10.50000.\n",
      "Expected value of an \"advantage of disadvantage\" roll is  9.83334.\n",
      "Expected value of a \"disadvantage of advantage\" roll is  11.16666.\n",
      "CPU times: user 184 ms, sys: 2.84 ms, total: 187 ms\n",
      "Wall time: 185 ms\n"
     ]
    }
   ],
   "source": [
    "%%time\n",
    "aod = []\n",
    "doa = []\n",
    "for d1 in range(1,21):\n",
    "    for d2 in range(1,21):\n",
    "        for d3 in range(1,21):\n",
    "            for d4 in range(1,21):\n",
    "                aod.append( max( min(d1,d2), min(d3,d4) ) )\n",
    "                doa.append( min( max(d1,d2), max(d3,d4) ) )\n",
    "        \n",
    "assert(len(aod)==len(doa)==20**4)\n",
    "\n",
    "print(f'Expected value of a simple roll is                       {21/2:8.5f}.')\n",
    "print(f'Expected value of an \"advantage of disadvantage\" roll is {sum(aod)/20**4:8.5f}.')\n",
    "print(f'Expected value of a \"disadvantage of advantage\" roll is  {sum(doa)/20**4:8.5f}.')"
   ]
  },
  {
   "cell_type": "markdown",
   "metadata": {},
   "source": [
    "## Likelihood to hit a certain N"
   ]
  },
  {
   "cell_type": "code",
   "execution_count": 24,
   "metadata": {},
   "outputs": [
    {
     "name": "stdout",
     "output_type": "stream",
     "text": [
      "n =  1 - simple roll = 100.0% - aod roll = 100.0% - doa roll = 100.0%\n",
      "n =  2 - simple roll =  95.0% - aod roll =  99.0% - doa roll =  99.5%\n",
      "n =  3 - simple roll =  90.0% - aod roll =  96.4% - doa roll =  98.0%\n",
      "n =  4 - simple roll =  85.0% - aod roll =  92.3% - doa roll =  95.6%\n",
      "n =  5 - simple roll =  80.0% - aod roll =  87.0% - doa roll =  92.2%\n",
      "n =  6 - simple roll =  75.0% - aod roll =  80.9% - doa roll =  87.9%\n",
      "n =  7 - simple roll =  70.0% - aod roll =  74.0% - doa roll =  82.8%\n",
      "n =  8 - simple roll =  65.0% - aod roll =  66.6% - doa roll =  77.0%\n",
      "n =  9 - simple roll =  60.0% - aod roll =  59.0% - doa roll =  70.6%\n",
      "n = 10 - simple roll =  55.0% - aod roll =  51.3% - doa roll =  63.6%\n",
      "n = 11 - simple roll =  50.0% - aod roll =  43.8% - doa roll =  56.2%\n",
      "n = 12 - simple roll =  45.0% - aod roll =  36.4% - doa roll =  48.7%\n",
      "n = 13 - simple roll =  40.0% - aod roll =  29.4% - doa roll =  41.0%\n",
      "n = 14 - simple roll =  35.0% - aod roll =  23.0% - doa roll =  33.4%\n",
      "n = 15 - simple roll =  30.0% - aod roll =  17.2% - doa roll =  26.0%\n",
      "n = 16 - simple roll =  25.0% - aod roll =  12.1% - doa roll =  19.1%\n",
      "n = 17 - simple roll =  20.0% - aod roll =   7.8% - doa roll =  13.0%\n",
      "n = 18 - simple roll =  15.0% - aod roll =   4.4% - doa roll =   7.7%\n",
      "n = 19 - simple roll =  10.0% - aod roll =   2.0% - doa roll =   3.6%\n",
      "n = 20 - simple roll =   5.0% - aod roll =   0.5% - doa roll =   1.0%\n",
      "CPU times: user 3.21 s, sys: 12.2 ms, total: 3.22 s\n",
      "Wall time: 3.22 s\n"
     ]
    }
   ],
   "source": [
    "%%time\n",
    "\n",
    "aod = 21 * [0]\n",
    "doa = 21 * [0]\n",
    "for N in range(1,21):\n",
    "    for d1 in range(1,21):\n",
    "        for d2 in range(1,21):\n",
    "            for d3 in range(1,21):\n",
    "                for d4 in range(1,21):\n",
    "                    if max( min(d1,d2), min(d3,d4) ) >= N: aod[N] += 1\n",
    "                    if min( max(d1,d2), max(d3,d4) ) >= N: doa[N] += 1\n",
    "    print(f'n = {N:2} - simple roll = {(21-N)/20:6.1%} - aod roll = {aod[N]/20**4:6.1%} - doa roll = {doa[N]/20**4:6.1%}')"
   ]
  }
 ],
 "metadata": {
  "kernelspec": {
   "display_name": "Python 3",
   "language": "python",
   "name": "python3"
  },
  "language_info": {
   "codemirror_mode": {
    "name": "ipython",
    "version": 3
   },
   "file_extension": ".py",
   "mimetype": "text/x-python",
   "name": "python",
   "nbconvert_exporter": "python",
   "pygments_lexer": "ipython3",
   "version": "3.8.2"
  }
 },
 "nbformat": 4,
 "nbformat_minor": 4
}
