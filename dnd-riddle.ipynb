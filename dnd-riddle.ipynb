{
 "cells": [
  {
   "cell_type": "markdown",
   "metadata": {},
   "source": [
    "# Fivethirtyeight Riddler\n",
    "\n",
    "Riddler Classic https://fivethirtyeight.com/features/can-you-find-the-best-dungeons-dragons-strategy/\n",
    "\n",
    "## What's the advantage of a \"simple\" advantage or disadvantage?"
   ]
  },
  {
   "cell_type": "code",
   "execution_count": 12,
   "metadata": {},
   "outputs": [
    {
     "name": "stdout",
     "output_type": "stream",
     "text": [
      "Expected value of a simple roll is       10.50000.\n",
      "Expected value of an advantage roll is   13.82500.\n",
      "Expected value of a disadvantage roll is  7.17500.\n",
      "CPU times: user 518 µs, sys: 142 µs, total: 660 µs\n",
      "Wall time: 542 µs\n"
     ]
    }
   ],
   "source": [
    "%%time\n",
    "advantage = []\n",
    "disadvantage = []\n",
    "for d1 in range(1,21):\n",
    "    for d2 in range(1,21):\n",
    "        advantage.append( max(d1,d2) )\n",
    "        disadvantage.append( min(d1,d2) )\n",
    "        \n",
    "assert(len(results)==20**2)\n",
    "\n",
    "print(f'Expected value of a simple roll is       {21/2:8.5f}.')\n",
    "print(f'Expected value of an advantage roll is   {sum(advantage)/20**2:8.5f}.')\n",
    "print(f'Expected value of a disadvantage roll is {sum(disadvantage)/20**2:8.5f}.')"
   ]
  },
  {
   "cell_type": "markdown",
   "metadata": {},
   "source": [
    "## Now what about \"advantage of disadvantage\" or vice versa?"
   ]
  },
  {
   "cell_type": "code",
   "execution_count": 13,
   "metadata": {},
   "outputs": [
    {
     "name": "stdout",
     "output_type": "stream",
     "text": [
      "Expected value of a simple roll is                       10.50000.\n",
      "Expected value of an \"advantage of disadvantage\" roll is  9.83334.\n",
      "Expected value of a \"disadvantage of advantage\" roll is  11.16666.\n",
      "CPU times: user 184 ms, sys: 2.84 ms, total: 187 ms\n",
      "Wall time: 185 ms\n"
     ]
    }
   ],
   "source": [
    "%%time\n",
    "aod = []\n",
    "doa = []\n",
    "for d1 in range(1,21):\n",
    "    for d2 in range(1,21):\n",
    "        for d3 in range(1,21):\n",
    "            for d4 in range(1,21):\n",
    "                aod.append( max( min(d1,d2), min(d3,d4) ) )\n",
    "                doa.append( min( max(d1,d2), max(d3,d4) ) )\n",
    "        \n",
    "assert(len(aod)==len(doa)==20**4)\n",
    "\n",
    "print(f'Expected value of a simple roll is                       {21/2:8.5f}.')\n",
    "print(f'Expected value of an \"advantage of disadvantage\" roll is {sum(aod)/20**4:8.5f}.')\n",
    "print(f'Expected value of a \"disadvantage of advantage\" roll is  {sum(doa)/20**4:8.5f}.')"
   ]
  }
 ],
 "metadata": {
  "kernelspec": {
   "display_name": "Python 3",
   "language": "python",
   "name": "python3"
  },
  "language_info": {
   "codemirror_mode": {
    "name": "ipython",
    "version": 3
   },
   "file_extension": ".py",
   "mimetype": "text/x-python",
   "name": "python",
   "nbconvert_exporter": "python",
   "pygments_lexer": "ipython3",
   "version": "3.8.2"
  }
 },
 "nbformat": 4,
 "nbformat_minor": 4
}
