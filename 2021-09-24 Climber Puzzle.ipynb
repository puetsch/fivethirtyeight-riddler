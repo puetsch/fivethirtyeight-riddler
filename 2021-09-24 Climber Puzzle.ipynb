{
 "cells": [
  {
   "cell_type": "markdown",
   "metadata": {},
   "source": [
    "# Climber puzzle\n",
    "\n",
    "https://fivethirtyeight.com/features/can-you-climb-your-way-to-victory/"
   ]
  },
  {
   "cell_type": "code",
   "execution_count": 17,
   "metadata": {},
   "outputs": [],
   "source": [
    "from itertools import product, permutations, combinations_with_replacement\n",
    "import operator\n",
    "from functools import reduce\n",
    "import numpy as np"
   ]
  },
  {
   "cell_type": "code",
   "execution_count": 18,
   "metadata": {},
   "outputs": [],
   "source": [
    "N = 5"
   ]
  },
  {
   "cell_type": "code",
   "execution_count": 19,
   "metadata": {},
   "outputs": [
    {
     "name": "stdout",
     "output_type": "stream",
     "text": [
      "CPU times: user 1.41 s, sys: 81.6 ms, total: 1.49 s\n",
      "Wall time: 1.5 s\n"
     ]
    }
   ],
   "source": [
    "%%time\n",
    "race = permutations(range(N))\n",
    "all_races = combinations_with_replacement(race, r=3)\n",
    "placements = np.array([[list(b) for b in a] for a in all_races])\n",
    "# This array has the results for each *race*, e.g. (1,2,3...) means\n",
    "# player 1 is first in race 1, player 2 second, player 3 third"
   ]
  },
  {
   "cell_type": "code",
   "execution_count": 20,
   "metadata": {},
   "outputs": [],
   "source": [
    "def score(placement):\n",
    "    scores = np.ones(N, dtype=int)\n",
    "    for p in placement:\n",
    "        for i,c in enumerate(p):\n",
    "            scores[c] *= (i+1)\n",
    "    return scores"
   ]
  },
  {
   "cell_type": "code",
   "execution_count": 21,
   "metadata": {},
   "outputs": [
    {
     "name": "stdout",
     "output_type": "stream",
     "text": [
      "CPU times: user 3.01 s, sys: 40.4 ms, total: 3.05 s\n",
      "Wall time: 3.06 s\n"
     ]
    }
   ],
   "source": [
    "%%time\n",
    "scores = np.array(list(map(score, placements)))\n",
    "# This array has the results for each *player*, e.g. (1,1,1...) means\n",
    "# player 1 is first in races 1,2,3"
   ]
  },
  {
   "cell_type": "code",
   "execution_count": 22,
   "metadata": {},
   "outputs": [
    {
     "name": "stdout",
     "output_type": "stream",
     "text": [
      "CPU times: user 711 ms, sys: 6.61 ms, total: 718 ms\n",
      "Wall time: 719 ms\n"
     ]
    }
   ],
   "source": [
    "%%time\n",
    "winning_scores = np.apply_along_axis(min, 1, scores)\n",
    "# This array contains the winning scores for each possible outcome"
   ]
  },
  {
   "cell_type": "code",
   "execution_count": 23,
   "metadata": {},
   "outputs": [
    {
     "name": "stdout",
     "output_type": "stream",
     "text": [
      "15\n",
      "CPU times: user 14.1 ms, sys: 344 µs, total: 14.5 ms\n",
      "Wall time: 14.4 ms\n"
     ]
    }
   ],
   "source": [
    "%%time\n",
    "worst_winning_score = max(winning_scores)\n",
    "# This is the worst winning score you can have\n",
    "\n",
    "print(worst_winning_score)"
   ]
  },
  {
   "cell_type": "code",
   "execution_count": 24,
   "metadata": {},
   "outputs": [
    {
     "name": "stdout",
     "output_type": "stream",
     "text": [
      "[[0 1 2 3 4]\n",
      " [2 1 3 4 0]\n",
      " [4 3 0 1 2]]\n",
      "[15 16 15 24 20]\n"
     ]
    }
   ],
   "source": [
    "# Let's find an example\n",
    "example = winning_scores.argmax()\n",
    "print(placements[example])\n",
    "print(scores[example])"
   ]
  }
 ],
 "metadata": {
  "kernelspec": {
   "display_name": "Python 3.8.2 64-bit ('py38': conda)",
   "language": "python",
   "name": "python38264bitpy38condaec5b1c1dc88446dbbda4a1f410e7f7d4"
  },
  "language_info": {
   "codemirror_mode": {
    "name": "ipython",
    "version": 3
   },
   "file_extension": ".py",
   "mimetype": "text/x-python",
   "name": "python",
   "nbconvert_exporter": "python",
   "pygments_lexer": "ipython3",
   "version": "3.8.11"
  }
 },
 "nbformat": 4,
 "nbformat_minor": 4
}
