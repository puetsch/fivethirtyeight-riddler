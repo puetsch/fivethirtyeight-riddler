{
 "cells": [
  {
   "cell_type": "markdown",
   "metadata": {},
   "source": [
    "# Can you make 24?\n",
    "\n",
    "https://fivethirtyeight.com/features/can-you-make-24/"
   ]
  },
  {
   "cell_type": "code",
   "execution_count": 17,
   "metadata": {},
   "outputs": [],
   "source": [
    "import numpy as np\n",
    "import random\n",
    "from collections import Counter"
   ]
  },
  {
   "cell_type": "code",
   "execution_count": 19,
   "metadata": {},
   "outputs": [],
   "source": [
    "nums = [2,3,3,4]\n",
    "ops = [np.subtract, np.add, np.multiply, np.divide, np.power]"
   ]
  },
  {
   "cell_type": "code",
   "execution_count": 38,
   "metadata": {
    "tags": []
   },
   "outputs": [
    {
     "output_type": "stream",
     "name": "stdout",
     "text": "subtract(4, 2) = 2, power(2, 3) = 8, multiply(8, 3) = 24\ntrue_divide(4, 2) = 2.0, power(2.0, 3) = 8.0, multiply(8.0, 3) = 24.0\npower(3, 2) = 9, subtract(9, 3) = 6, multiply(6, 4) = 24\n"
    }
   ],
   "source": [
    "c = Counter()\n",
    "solutions = set()\n",
    "for i in range(100000):\n",
    "    my_nums = nums.copy()\n",
    "    p1 = random.choice(my_nums)\n",
    "    my_nums.remove(p1)\n",
    "    steps = []\n",
    "    while my_nums:\n",
    "        p2 = random.choice(my_nums)\n",
    "        my_nums.remove(p2)\n",
    "        op = random.choice(ops)\n",
    "        r = op(p1,p2)\n",
    "        steps.append(f\"{op.__name__}({p1}, {p2}) = {r}\")\n",
    "        if random.choice([1,2])==1:\n",
    "            p1 = r\n",
    "        else:\n",
    "            p2 = r\n",
    "    c[p1] += 1\n",
    "    if p1 == 24:\n",
    "        solutions.add(\", \".join(steps))\n",
    "print(\"\\n\".join(list(solutions)))"
   ]
  },
  {
   "cell_type": "code",
   "execution_count": 34,
   "metadata": {},
   "outputs": [
    {
     "output_type": "execute_result",
     "data": {
      "text/plain": "'power'"
     },
     "metadata": {},
     "execution_count": 34
    }
   ],
   "source": [
    "op.__name__"
   ]
  }
 ],
 "metadata": {
  "language_info": {
   "codemirror_mode": {
    "name": "ipython",
    "version": 3
   },
   "file_extension": ".py",
   "mimetype": "text/x-python",
   "name": "python",
   "nbconvert_exporter": "python",
   "pygments_lexer": "ipython3",
   "version": "3.8.2-final"
  },
  "orig_nbformat": 2,
  "kernelspec": {
   "name": "python38264bitpy38condaec5b1c1dc88446dbbda4a1f410e7f7d4",
   "display_name": "Python 3.8.2 64-bit ('py38': conda)"
  }
 },
 "nbformat": 4,
 "nbformat_minor": 2
}