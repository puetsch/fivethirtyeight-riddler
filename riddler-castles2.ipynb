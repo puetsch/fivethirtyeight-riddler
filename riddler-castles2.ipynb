{
 "cells": [
  {
   "cell_type": "code",
   "execution_count": 96,
   "metadata": {},
   "outputs": [],
   "source": [
    "import numpy as np\n",
    "import tqdm.notebook as tqdm\n",
    "import random\n",
    "import pandas as pd"
   ]
  },
  {
   "cell_type": "markdown",
   "metadata": {},
   "source": [
    "# Generate initial data"
   ]
  },
  {
   "cell_type": "code",
   "execution_count": 97,
   "metadata": {},
   "outputs": [],
   "source": [
    "CASTLES = 13\n",
    "SOLDIERS = 100\n",
    "ENTRIES = 12000\n",
    "ENTRIES2 = 3000\n",
    "ENTRIES3 = 1000\n",
    "SQUARE_WEIGHT = True"
   ]
  },
  {
   "cell_type": "code",
   "execution_count": 98,
   "metadata": {},
   "outputs": [],
   "source": [
    "def get_entry():\n",
    "    alloc = np.zeros(CASTLES, int)\n",
    "    for i in range(SOLDIERS):\n",
    "        c = random.randint(0,CASTLES-1)\n",
    "        alloc[c] += 1\n",
    "    return alloc"
   ]
  },
  {
   "cell_type": "code",
   "execution_count": 99,
   "metadata": {},
   "outputs": [
    {
     "data": {
      "application/vnd.jupyter.widget-view+json": {
       "model_id": "86fdfa678f6741e0a483ddb7e51b361c",
       "version_major": 2,
       "version_minor": 0
      },
      "text/plain": [
       "HBox(children=(FloatProgress(value=0.0, max=12000.0), HTML(value='')))"
      ]
     },
     "metadata": {},
     "output_type": "display_data"
    },
    {
     "name": "stdout",
     "output_type": "stream",
     "text": [
      "\n"
     ]
    }
   ],
   "source": [
    "subs = []\n",
    "\n",
    "for n in tqdm.trange(ENTRIES):\n",
    "    subs.append(get_entry())"
   ]
  },
  {
   "cell_type": "markdown",
   "metadata": {},
   "source": [
    "# Build scoring function"
   ]
  },
  {
   "cell_type": "code",
   "execution_count": 100,
   "metadata": {},
   "outputs": [],
   "source": [
    "score_subs = subs\n",
    "\n",
    "def score(alloc):\n",
    "    values = np.array(range(1,CASTLES+1))\n",
    "    w = t = l = 0\n",
    "    for irow in score_subs:\n",
    "        delta = np.subtract(alloc, irow)\n",
    "        signs = np.sign(delta)\n",
    "        s = np.dot(signs, values)\n",
    "        if s > 0: w += 1\n",
    "        elif s < 0: l += 1\n",
    "        else: t += 1\n",
    "#     print(w,t,l)\n",
    "    return w + t/2"
   ]
  },
  {
   "cell_type": "code",
   "execution_count": 101,
   "metadata": {},
   "outputs": [
    {
     "data": {
      "application/vnd.jupyter.widget-view+json": {
       "model_id": "6e90144ab7db49378a7e0784be2483ea",
       "version_major": 2,
       "version_minor": 0
      },
      "text/plain": [
       "HBox(children=(FloatProgress(value=0.0, max=12000.0), HTML(value='')))"
      ]
     },
     "metadata": {},
     "output_type": "display_data"
    },
    {
     "name": "stdout",
     "output_type": "stream",
     "text": [
      "\n",
      "[ 4  4  8  2  6  4 11  3  7 12 11 15 13] 11615.5\n",
      "CPU times: user 5min 32s, sys: 14.9 s, total: 5min 47s\n",
      "Wall time: 5min 36s\n"
     ]
    }
   ],
   "source": [
    "%%time\n",
    "all_scores = []\n",
    "for alloc in tqdm.tqdm(subs):\n",
    "    all_scores.append(score(alloc))\n",
    "max_score = max(all_scores)\n",
    "idx_max = all_scores.index(max_score)\n",
    "print(subs[idx_max], max_score)"
   ]
  },
  {
   "cell_type": "markdown",
   "metadata": {},
   "source": [
    "Now create a smaller list of entries based on how successful they were."
   ]
  },
  {
   "cell_type": "code",
   "execution_count": 102,
   "metadata": {},
   "outputs": [],
   "source": [
    "subs2 = random.choices(subs, k=ENTRIES2, weights = np.array(all_scores)**2 if SQUARE_WEIGHT else all_scores)\n",
    "score_subs = subs2"
   ]
  },
  {
   "cell_type": "markdown",
   "metadata": {},
   "source": [
    "Do that again."
   ]
  },
  {
   "cell_type": "code",
   "execution_count": 103,
   "metadata": {},
   "outputs": [
    {
     "data": {
      "application/vnd.jupyter.widget-view+json": {
       "model_id": "4469fe3864284d89af19eca9b7926aa0",
       "version_major": 2,
       "version_minor": 0
      },
      "text/plain": [
       "HBox(children=(FloatProgress(value=0.0, max=3000.0), HTML(value='')))"
      ]
     },
     "metadata": {},
     "output_type": "display_data"
    },
    {
     "name": "stdout",
     "output_type": "stream",
     "text": [
      "\n",
      "[ 4  4  8  2  6  4 11  3  7 12 11 15 13] 2895.5\n",
      "CPU times: user 21.4 s, sys: 1.56 s, total: 23 s\n",
      "Wall time: 21.7 s\n"
     ]
    }
   ],
   "source": [
    "%%time\n",
    "all_scores = []\n",
    "for alloc in tqdm.tqdm(subs2):\n",
    "    all_scores.append(score(alloc))\n",
    "max_score = max(all_scores)\n",
    "idx_max = all_scores.index(max_score)\n",
    "print(subs2[idx_max], max_score)"
   ]
  },
  {
   "cell_type": "code",
   "execution_count": 104,
   "metadata": {},
   "outputs": [],
   "source": [
    "subs3 = random.choices(subs2, k=ENTRIES3, weights = np.array(all_scores)**2 if SQUARE_WEIGHT else all_scores)\n",
    "score_subs = subs3"
   ]
  },
  {
   "cell_type": "markdown",
   "metadata": {},
   "source": [
    "# Iteratively, look for better options"
   ]
  },
  {
   "cell_type": "code",
   "execution_count": 105,
   "metadata": {},
   "outputs": [],
   "source": [
    "def get_tweak(alloc):\n",
    "    s = score(alloc)\n",
    "    deltas = [0] * CASTLES\n",
    "    for i in range(CASTLES):\n",
    "        new_alloc = alloc.copy()\n",
    "        new_alloc[i] += 1\n",
    "        new_s = score(new_alloc)\n",
    "        deltas[i] = new_s-s\n",
    "    inc = deltas.index(max(deltas))\n",
    "    deltas = [0] * CASTLES\n",
    "    for i in range(CASTLES):\n",
    "        new_alloc = alloc.copy()\n",
    "        if new_alloc[i] > 0:\n",
    "            new_alloc[i] -= 1\n",
    "            new_s = score(new_alloc)\n",
    "            deltas[i] = new_s-s\n",
    "        else:\n",
    "            deltas[i] = -55\n",
    "    dec = deltas.index(max(deltas))\n",
    "    return((inc, dec))"
   ]
  },
  {
   "cell_type": "code",
   "execution_count": 106,
   "metadata": {},
   "outputs": [],
   "source": [
    "def optimize(a):\n",
    "    alloc = a.copy()\n",
    "    s = 0\n",
    "    new_s = score(alloc)\n",
    "    \n",
    "    while new_s > s:\n",
    "        s = new_s\n",
    "#         print(f\"{alloc} yields {s}\")\n",
    "\n",
    "        inc, dec = get_tweak(alloc)\n",
    "\n",
    "        if inc==dec: break\n",
    "\n",
    "        alloc[inc]+=1\n",
    "        alloc[dec]-=1\n",
    "\n",
    "        new_s = score(alloc)\n",
    "\n",
    "    return alloc"
   ]
  },
  {
   "cell_type": "code",
   "execution_count": 107,
   "metadata": {},
   "outputs": [
    {
     "data": {
      "application/vnd.jupyter.widget-view+json": {
       "model_id": "193c4a911c0e4edc96956b71d6c7aaf6",
       "version_major": 2,
       "version_minor": 0
      },
      "text/plain": [
       "HBox(children=(FloatProgress(value=0.0, max=1000.0), HTML(value='')))"
      ]
     },
     "metadata": {},
     "output_type": "display_data"
    },
    {
     "name": "stdout",
     "output_type": "stream",
     "text": [
      "\n"
     ]
    }
   ],
   "source": [
    "subs_optimized = []\n",
    "\n",
    "for alloc in tqdm.tqdm(subs3):\n",
    "    new_alloc = optimize(alloc.copy())\n",
    "    subs_optimized.append(new_alloc)"
   ]
  },
  {
   "cell_type": "code",
   "execution_count": 132,
   "metadata": {},
   "outputs": [],
   "source": [
    "subs4 = subs3 + subs_optimized\n",
    "score_subs = subs4"
   ]
  },
  {
   "cell_type": "code",
   "execution_count": 134,
   "metadata": {},
   "outputs": [
    {
     "name": "stdout",
     "output_type": "stream",
     "text": [
      "[ 0  6  0 10 12 13  0 13 15 14  0 17  0] --> 1996.0 / 2000, params = 12000 / 3000 / 1000 / True\n",
      "CPU times: user 4.39 s, sys: 9.61 ms, total: 4.4 s\n",
      "Wall time: 4.4 s\n"
     ]
    }
   ],
   "source": [
    "%%time\n",
    "all_scores = list(map(score, subs_optimized))\n",
    "max_score = max(all_scores)\n",
    "idx_max = all_scores.index(max_score)\n",
    "print(f\"{subs_optimized[idx_max]} --> {max_score} / {2*ENTRIES3}, params = {ENTRIES} / {ENTRIES2} / {ENTRIES3} / {SQUARE_WEIGHT}\")"
   ]
  },
  {
   "cell_type": "code",
   "execution_count": 135,
   "metadata": {},
   "outputs": [],
   "source": [
    "df = pd.DataFrame(subs_optimized)\n",
    "df['score'] = all_scores"
   ]
  },
  {
   "cell_type": "code",
   "execution_count": 136,
   "metadata": {},
   "outputs": [
    {
     "data": {
      "text/html": [
       "<div>\n",
       "<style scoped>\n",
       "    .dataframe tbody tr th:only-of-type {\n",
       "        vertical-align: middle;\n",
       "    }\n",
       "\n",
       "    .dataframe tbody tr th {\n",
       "        vertical-align: top;\n",
       "    }\n",
       "\n",
       "    .dataframe thead th {\n",
       "        text-align: right;\n",
       "    }\n",
       "</style>\n",
       "<table border=\"1\" class=\"dataframe\">\n",
       "  <thead>\n",
       "    <tr style=\"text-align: right;\">\n",
       "      <th></th>\n",
       "      <th>0</th>\n",
       "      <th>1</th>\n",
       "      <th>2</th>\n",
       "      <th>3</th>\n",
       "      <th>4</th>\n",
       "      <th>5</th>\n",
       "      <th>6</th>\n",
       "      <th>7</th>\n",
       "      <th>8</th>\n",
       "      <th>9</th>\n",
       "      <th>10</th>\n",
       "      <th>11</th>\n",
       "      <th>12</th>\n",
       "      <th>score</th>\n",
       "    </tr>\n",
       "  </thead>\n",
       "  <tbody>\n",
       "    <tr>\n",
       "      <th>640</th>\n",
       "      <td>0</td>\n",
       "      <td>6</td>\n",
       "      <td>0</td>\n",
       "      <td>10</td>\n",
       "      <td>12</td>\n",
       "      <td>13</td>\n",
       "      <td>0</td>\n",
       "      <td>13</td>\n",
       "      <td>15</td>\n",
       "      <td>14</td>\n",
       "      <td>0</td>\n",
       "      <td>17</td>\n",
       "      <td>0</td>\n",
       "      <td>1996.0</td>\n",
       "    </tr>\n",
       "    <tr>\n",
       "      <th>998</th>\n",
       "      <td>1</td>\n",
       "      <td>0</td>\n",
       "      <td>8</td>\n",
       "      <td>0</td>\n",
       "      <td>0</td>\n",
       "      <td>12</td>\n",
       "      <td>11</td>\n",
       "      <td>13</td>\n",
       "      <td>14</td>\n",
       "      <td>5</td>\n",
       "      <td>15</td>\n",
       "      <td>17</td>\n",
       "      <td>4</td>\n",
       "      <td>1993.0</td>\n",
       "    </tr>\n",
       "    <tr>\n",
       "      <th>454</th>\n",
       "      <td>1</td>\n",
       "      <td>0</td>\n",
       "      <td>8</td>\n",
       "      <td>0</td>\n",
       "      <td>0</td>\n",
       "      <td>12</td>\n",
       "      <td>11</td>\n",
       "      <td>13</td>\n",
       "      <td>14</td>\n",
       "      <td>5</td>\n",
       "      <td>15</td>\n",
       "      <td>17</td>\n",
       "      <td>4</td>\n",
       "      <td>1993.0</td>\n",
       "    </tr>\n",
       "    <tr>\n",
       "      <th>808</th>\n",
       "      <td>0</td>\n",
       "      <td>0</td>\n",
       "      <td>8</td>\n",
       "      <td>10</td>\n",
       "      <td>12</td>\n",
       "      <td>11</td>\n",
       "      <td>13</td>\n",
       "      <td>0</td>\n",
       "      <td>14</td>\n",
       "      <td>0</td>\n",
       "      <td>15</td>\n",
       "      <td>0</td>\n",
       "      <td>17</td>\n",
       "      <td>1989.5</td>\n",
       "    </tr>\n",
       "    <tr>\n",
       "      <th>93</th>\n",
       "      <td>1</td>\n",
       "      <td>0</td>\n",
       "      <td>8</td>\n",
       "      <td>9</td>\n",
       "      <td>6</td>\n",
       "      <td>13</td>\n",
       "      <td>3</td>\n",
       "      <td>13</td>\n",
       "      <td>14</td>\n",
       "      <td>0</td>\n",
       "      <td>0</td>\n",
       "      <td>16</td>\n",
       "      <td>17</td>\n",
       "      <td>1989.5</td>\n",
       "    </tr>\n",
       "    <tr>\n",
       "      <th>434</th>\n",
       "      <td>0</td>\n",
       "      <td>5</td>\n",
       "      <td>0</td>\n",
       "      <td>9</td>\n",
       "      <td>11</td>\n",
       "      <td>11</td>\n",
       "      <td>12</td>\n",
       "      <td>4</td>\n",
       "      <td>14</td>\n",
       "      <td>0</td>\n",
       "      <td>0</td>\n",
       "      <td>17</td>\n",
       "      <td>17</td>\n",
       "      <td>1988.0</td>\n",
       "    </tr>\n",
       "    <tr>\n",
       "      <th>735</th>\n",
       "      <td>1</td>\n",
       "      <td>6</td>\n",
       "      <td>7</td>\n",
       "      <td>0</td>\n",
       "      <td>2</td>\n",
       "      <td>12</td>\n",
       "      <td>12</td>\n",
       "      <td>13</td>\n",
       "      <td>14</td>\n",
       "      <td>0</td>\n",
       "      <td>15</td>\n",
       "      <td>17</td>\n",
       "      <td>1</td>\n",
       "      <td>1987.5</td>\n",
       "    </tr>\n",
       "    <tr>\n",
       "      <th>879</th>\n",
       "      <td>1</td>\n",
       "      <td>6</td>\n",
       "      <td>5</td>\n",
       "      <td>1</td>\n",
       "      <td>9</td>\n",
       "      <td>12</td>\n",
       "      <td>5</td>\n",
       "      <td>0</td>\n",
       "      <td>14</td>\n",
       "      <td>14</td>\n",
       "      <td>0</td>\n",
       "      <td>16</td>\n",
       "      <td>17</td>\n",
       "      <td>1986.5</td>\n",
       "    </tr>\n",
       "    <tr>\n",
       "      <th>234</th>\n",
       "      <td>0</td>\n",
       "      <td>4</td>\n",
       "      <td>0</td>\n",
       "      <td>10</td>\n",
       "      <td>6</td>\n",
       "      <td>6</td>\n",
       "      <td>0</td>\n",
       "      <td>12</td>\n",
       "      <td>14</td>\n",
       "      <td>14</td>\n",
       "      <td>15</td>\n",
       "      <td>16</td>\n",
       "      <td>3</td>\n",
       "      <td>1985.0</td>\n",
       "    </tr>\n",
       "    <tr>\n",
       "      <th>442</th>\n",
       "      <td>0</td>\n",
       "      <td>4</td>\n",
       "      <td>0</td>\n",
       "      <td>10</td>\n",
       "      <td>6</td>\n",
       "      <td>6</td>\n",
       "      <td>0</td>\n",
       "      <td>12</td>\n",
       "      <td>14</td>\n",
       "      <td>14</td>\n",
       "      <td>15</td>\n",
       "      <td>16</td>\n",
       "      <td>3</td>\n",
       "      <td>1985.0</td>\n",
       "    </tr>\n",
       "  </tbody>\n",
       "</table>\n",
       "</div>"
      ],
      "text/plain": [
       "     0  1  2   3   4   5   6   7   8   9  10  11  12   score\n",
       "640  0  6  0  10  12  13   0  13  15  14   0  17   0  1996.0\n",
       "998  1  0  8   0   0  12  11  13  14   5  15  17   4  1993.0\n",
       "454  1  0  8   0   0  12  11  13  14   5  15  17   4  1993.0\n",
       "808  0  0  8  10  12  11  13   0  14   0  15   0  17  1989.5\n",
       "93   1  0  8   9   6  13   3  13  14   0   0  16  17  1989.5\n",
       "434  0  5  0   9  11  11  12   4  14   0   0  17  17  1988.0\n",
       "735  1  6  7   0   2  12  12  13  14   0  15  17   1  1987.5\n",
       "879  1  6  5   1   9  12   5   0  14  14   0  16  17  1986.5\n",
       "234  0  4  0  10   6   6   0  12  14  14  15  16   3  1985.0\n",
       "442  0  4  0  10   6   6   0  12  14  14  15  16   3  1985.0"
      ]
     },
     "execution_count": 136,
     "metadata": {},
     "output_type": "execute_result"
    }
   ],
   "source": [
    "df.sort_values('score', ascending=False).head(10)"
   ]
  },
  {
   "cell_type": "code",
   "execution_count": 138,
   "metadata": {},
   "outputs": [
    {
     "data": {
      "text/plain": [
       "array([ 0,  6,  0, 10, 12, 13,  0, 13, 15, 14,  0, 17,  0])"
      ]
     },
     "execution_count": 138,
     "metadata": {},
     "output_type": "execute_result"
    }
   ],
   "source": [
    "final = df.sort_values('score', ascending=False).iloc[0].values.astype(int)[:-1]\n",
    "final"
   ]
  },
  {
   "cell_type": "code",
   "execution_count": 139,
   "metadata": {},
   "outputs": [
    {
     "name": "stdout",
     "output_type": "stream",
     "text": [
      "100\n"
     ]
    },
    {
     "data": {
      "text/plain": [
       "1996.0"
      ]
     },
     "execution_count": 139,
     "metadata": {},
     "output_type": "execute_result"
    }
   ],
   "source": [
    "final = [ 0,  6,  0, 10, 12, 13,  0, 13, 15, 14,  0, 17,  0]\n",
    "print(sum(final))\n",
    "score(final)"
   ]
  },
  {
   "cell_type": "markdown",
   "metadata": {},
   "source": [
    "# Results\n",
    "\n",
    "Stored results of different runs\n",
    "\n",
    "[ 1  3  9  0  9  6 12  0  8 12 12 14 14] --> 750.0 / 750, params = 10000 / 3000 / 750 / True\n",
    "\n",
    "[ 1  3  3  0 11  9  7 13 12 12 16 13  0] --> 750.0 / 750, params = 10000 / 3000 / 750 / False"
   ]
  }
 ],
 "metadata": {
  "kernelspec": {
   "display_name": "Python 3.8.2 64-bit ('py38': conda)",
   "language": "python",
   "name": "python38264bitpy38condaec5b1c1dc88446dbbda4a1f410e7f7d4"
  },
  "language_info": {
   "codemirror_mode": {
    "name": "ipython",
    "version": 3
   },
   "file_extension": ".py",
   "mimetype": "text/x-python",
   "name": "python",
   "nbconvert_exporter": "python",
   "pygments_lexer": "ipython3",
   "version": "3.8.2"
  }
 },
 "nbformat": 4,
 "nbformat_minor": 4
}
